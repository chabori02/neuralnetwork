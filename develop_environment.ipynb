{
  "nbformat": 4,
  "nbformat_minor": 0,
  "metadata": {
    "colab": {
      "provenance": [],
      "authorship_tag": "ABX9TyOZBp9cDbs9O72q15CivDlO",
      "include_colab_link": true
    },
    "kernelspec": {
      "name": "python3",
      "display_name": "Python 3"
    },
    "language_info": {
      "name": "python"
    }
  },
  "cells": [
    {
      "cell_type": "markdown",
      "metadata": {
        "id": "view-in-github",
        "colab_type": "text"
      },
      "source": [
        "<a href=\"https://colab.research.google.com/github/chabori02/neuralnetwork/blob/main/develop_environment.ipynb\" target=\"_parent\"><img src=\"https://colab.research.google.com/assets/colab-badge.svg\" alt=\"Open In Colab\"/></a>"
      ]
    },
    {
      "cell_type": "code",
      "execution_count": null,
      "metadata": {
        "colab": {
          "base_uri": "https://localhost:8080/",
          "height": 399
        },
        "id": "Kyptyny_-uhQ",
        "outputId": "5e4399d3-34f9-4474-fd83-787abe2f57c4"
      },
      "outputs": [
        {
          "output_type": "error",
          "ename": "ModuleNotFoundError",
          "evalue": "ignored",
          "traceback": [
            "\u001b[0;31m---------------------------------------------------------------------------\u001b[0m",
            "\u001b[0;31mModuleNotFoundError\u001b[0m                       Traceback (most recent call last)",
            "\u001b[0;32m<ipython-input-1-27b81de29783>\u001b[0m in \u001b[0;36m<cell line: 4>\u001b[0;34m()\u001b[0m\n\u001b[1;32m      2\u001b[0m \u001b[0;32mfrom\u001b[0m \u001b[0mkeras\u001b[0m\u001b[0;34m.\u001b[0m\u001b[0mmodels\u001b[0m \u001b[0;32mimport\u001b[0m \u001b[0mModel\u001b[0m\u001b[0;34m,\u001b[0m \u001b[0mSequential\u001b[0m\u001b[0;34m\u001b[0m\u001b[0;34m\u001b[0m\u001b[0m\n\u001b[1;32m      3\u001b[0m \u001b[0;32mfrom\u001b[0m \u001b[0mkeras\u001b[0m\u001b[0;34m.\u001b[0m\u001b[0mlayers\u001b[0m \u001b[0;32mimport\u001b[0m \u001b[0mDense\u001b[0m\u001b[0;34m,\u001b[0m \u001b[0mInput\u001b[0m\u001b[0;34m\u001b[0m\u001b[0;34m\u001b[0m\u001b[0m\n\u001b[0;32m----> 4\u001b[0;31m \u001b[0;32mfrom\u001b[0m \u001b[0mkeras\u001b[0m\u001b[0;34m.\u001b[0m\u001b[0mlayers\u001b[0m\u001b[0;34m.\u001b[0m\u001b[0madvanced_activations\u001b[0m \u001b[0;32mimport\u001b[0m \u001b[0mLeakyReLU\u001b[0m\u001b[0;34m\u001b[0m\u001b[0;34m\u001b[0m\u001b[0m\n\u001b[0m\u001b[1;32m      5\u001b[0m \u001b[0;32mfrom\u001b[0m \u001b[0mkeras\u001b[0m\u001b[0;34m.\u001b[0m\u001b[0moptimizers\u001b[0m \u001b[0;32mimport\u001b[0m \u001b[0mAdam\u001b[0m\u001b[0;34m\u001b[0m\u001b[0;34m\u001b[0m\u001b[0m\n\u001b[1;32m      6\u001b[0m \u001b[0;32mfrom\u001b[0m \u001b[0mkeras\u001b[0m\u001b[0;34m.\u001b[0m\u001b[0mdatasets\u001b[0m \u001b[0;32mimport\u001b[0m \u001b[0mmnist\u001b[0m\u001b[0;34m\u001b[0m\u001b[0;34m\u001b[0m\u001b[0m\n",
            "\u001b[0;31mModuleNotFoundError\u001b[0m: No module named 'keras.layers.advanced_activations'",
            "",
            "\u001b[0;31m---------------------------------------------------------------------------\u001b[0;32m\nNOTE: If your import is failing due to a missing package, you can\nmanually install dependencies using either !pip or !apt.\n\nTo view examples of installing some common dependencies, click the\n\"Open Examples\" button below.\n\u001b[0;31m---------------------------------------------------------------------------\u001b[0m\n"
          ],
          "errorDetails": {
            "actions": [
              {
                "action": "open_url",
                "actionText": "Open Examples",
                "url": "/notebooks/snippets/importing_libraries.ipynb"
              }
            ]
          }
        }
      ],
      "source": [
        "#개발환경 만들기 254pg\n",
        "from keras.models import Model, Sequential\n",
        "from keras.layers import Dense, Input\n",
        "from keras.layers.advanced_activations import LeakyReLU\n",
        "from keras.optimizers import Adam\n",
        "from keras.datasets import mnist\n",
        "from tqdm import tqdm\n",
        "import numpy as np\n",
        "import matpolotlib.pyplot as plt"
      ]
    },
    {
      "cell_type": "code",
      "source": [
        "#데이터 불러오기 256pg\n",
        "(x_train,y_train), (x_test,y_test) = mnist.load_data()\n",
        "x_test = (x_test.astype(np.float32) - 127.5)/127.5\n",
        "mnist_data = x_test.reshape(10000, 784)\n",
        "print(mnist_data.shape)\n",
        "len(mnist_data)\n",
        "\n",
        "\n"
      ],
      "metadata": {
        "id": "TfYl5ukF_F9Y"
      },
      "execution_count": null,
      "outputs": []
    },
    {
      "cell_type": "code",
      "source": [
        "#생성자 신경망 만들기_258pg\n",
        "def create_generator():\n",
        "    generator = Sequential()\n",
        "    generator.add(Dense(units=256,input_dim=100))\n",
        "    generator.add(LeakyReLU(0.2))\n",
        "    generator.add(Dense(units=784, activation='tanh'))\n",
        "    return generator\n",
        "g = create_generator()\n",
        "g.summary()"
      ],
      "metadata": {
        "id": "byZDJ3e0_LpD"
      },
      "execution_count": null,
      "outputs": []
    },
    {
      "cell_type": "code",
      "source": [
        "#판별자 신경망 만들기 262pg\n",
        "def create_discriminator():\n",
        "    discriminator = Sequential()\n",
        "    discriminator.add(Dense(units=512,input_dim=784))\n",
        "    discriminator.add(LeakyReLU(0.2))\n",
        "    discriminator.add(Dense(units=256))\n",
        "    discriminator.add(LeakyReLU(0.2))\n",
        "    discriminator.add(Dense(units=1, activation='sigmoid'))\n"
      ],
      "metadata": {
        "id": "Z366Pa3bQMCq"
      },
      "execution_count": null,
      "outputs": []
    },
    {
      "cell_type": "code",
      "source": [
        "\n",
        "\n",
        "#GAN 생성함수 만들기\n",
        "def create_gan(discriminator, generator):\n",
        "  discriminator.traintable=False\n",
        "  gan_input = input(shape=(100,0))\n",
        "  x = generator(gan_input)\n",
        "  gan_output = discriminaitor(x)\n",
        "  gan = Model(inputs=gan_input, outputs=gan_output)\n",
        "  gan.compile(loss='binary_crossentropy', optimizer='adam')\n",
        "  return gan\n",
        "gan=create_gan(d,g)\n",
        "gan.summary()\n"
      ],
      "metadata": {
        "id": "D3ncm7t2RB5o"
      },
      "execution_count": null,
      "outputs": []
    },
    {
      "cell_type": "code",
      "source": [
        "\n",
        "\n",
        "#결과확인 함수 만들기 271pg\n",
        "def plot_generated_images(generator):\n",
        "  noise = np.random.normal(loc=0, scale=1, size=[100,100])\n",
        "  generated_images = generator.predict(noise)\n",
        "  generated_images = generated_images.reshape(100,28,28)\n",
        "    plt.subplot(10, 10, i+1)\n",
        "    plt.imshow(generated_images[i], interpolation='nearest')\n",
        "    plt.axis('off')\n",
        "  plt.tight_layout()\n",
        "\n"
      ],
      "metadata": {
        "id": "ZJ1nsnDJRErS"
      },
      "execution_count": null,
      "outputs": []
    },
    {
      "cell_type": "code",
      "source": [
        "\n",
        "#적대적 생성 신경망 훈련시키기 273pg\n",
        "batch_size = 128\n",
        "epochs = 5000\n",
        "for e in tqdm(range(epochs)):\n",
        "  noise = np.random.normal(0,1, [batch_size, 100])\n",
        "  generated_images = g.predict(noise)\n",
        "  image_batch = mnist_data[np.random.randit(low=0,\n",
        "                                            high=mnist_data.shape[0], size=batch_size)]\n",
        "  x = np.concatenate([image_batch, generated_images])\n",
        "  y_dis = np.zeros(2*batch_size)\n",
        "  y_dis[:batch_size] = 1\n",
        "  d.trainable = True\n",
        "  d.train_on_batch(X, y_dis)\n",
        "  noise = np.random.normal(0,1, [batch_size, 100])\n",
        "  y_gen = np.ones(batch_size)\n",
        "  d.trainable = False #판별자를 더이상 생성시키지 않습니다.\n",
        "  gan.train_on_batch(noise, y_gen)\n",
        "  if e == 0 or e % 1000 == 0:\n",
        "    plot_generated_images(g)\n"
      ],
      "metadata": {
        "id": "-cnT-BavRIlb"
      },
      "execution_count": null,
      "outputs": []
    }
  ]
}